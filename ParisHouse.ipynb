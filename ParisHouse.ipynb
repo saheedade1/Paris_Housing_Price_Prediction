{
 "cells": [
  {
   "cell_type": "code",
   "execution_count": 437,
   "id": "5e0ea7a7-50bb-4071-bf19-9c85c9e6852a",
   "metadata": {},
   "outputs": [],
   "source": [
    "import pandas as pd\n",
    "import numpy as np\n",
    "import matplotlib.pyplot as plt\n",
    "import seaborn as sns\n",
    "\n",
    "from sklearn.model_selection import train_test_split\n",
    "from sklearn.linear_model import LinearRegression\n",
    "from sklearn.linear_model import Ridge\n",
    "\n",
    "from sklearn.ensemble import RandomForestRegressor\n",
    "from sklearn.preprocessing import StandardScaler, MinMaxScaler\n",
    "from yellowbrick.regressor import ResidualPlot"
   ]
  },
  {
   "cell_type": "code",
   "execution_count": 403,
   "id": "e56db35b-f009-4cb4-8afe-b92a86ff117b",
   "metadata": {},
   "outputs": [
    {
     "data": {
      "text/html": [
       "<div>\n",
       "<style scoped>\n",
       "    .dataframe tbody tr th:only-of-type {\n",
       "        vertical-align: middle;\n",
       "    }\n",
       "\n",
       "    .dataframe tbody tr th {\n",
       "        vertical-align: top;\n",
       "    }\n",
       "\n",
       "    .dataframe thead th {\n",
       "        text-align: right;\n",
       "    }\n",
       "</style>\n",
       "<table border=\"1\" class=\"dataframe\">\n",
       "  <thead>\n",
       "    <tr style=\"text-align: right;\">\n",
       "      <th></th>\n",
       "      <th>squareMeters</th>\n",
       "      <th>numberOfRooms</th>\n",
       "      <th>hasYard</th>\n",
       "      <th>hasPool</th>\n",
       "      <th>floors</th>\n",
       "      <th>cityCode</th>\n",
       "      <th>cityPartRange</th>\n",
       "      <th>numPrevOwners</th>\n",
       "      <th>made</th>\n",
       "      <th>isNewBuilt</th>\n",
       "      <th>hasStormProtector</th>\n",
       "      <th>basement</th>\n",
       "      <th>attic</th>\n",
       "      <th>garage</th>\n",
       "      <th>hasStorageRoom</th>\n",
       "      <th>hasGuestRoom</th>\n",
       "      <th>price</th>\n",
       "    </tr>\n",
       "  </thead>\n",
       "  <tbody>\n",
       "    <tr>\n",
       "      <th>0</th>\n",
       "      <td>75523</td>\n",
       "      <td>3</td>\n",
       "      <td>0</td>\n",
       "      <td>1</td>\n",
       "      <td>63</td>\n",
       "      <td>9373</td>\n",
       "      <td>3</td>\n",
       "      <td>8</td>\n",
       "      <td>2005</td>\n",
       "      <td>0</td>\n",
       "      <td>1</td>\n",
       "      <td>4313</td>\n",
       "      <td>9005</td>\n",
       "      <td>956</td>\n",
       "      <td>0</td>\n",
       "      <td>7</td>\n",
       "      <td>7559081.5</td>\n",
       "    </tr>\n",
       "    <tr>\n",
       "      <th>1</th>\n",
       "      <td>80771</td>\n",
       "      <td>39</td>\n",
       "      <td>1</td>\n",
       "      <td>1</td>\n",
       "      <td>98</td>\n",
       "      <td>39381</td>\n",
       "      <td>8</td>\n",
       "      <td>6</td>\n",
       "      <td>2015</td>\n",
       "      <td>1</td>\n",
       "      <td>0</td>\n",
       "      <td>3653</td>\n",
       "      <td>2436</td>\n",
       "      <td>128</td>\n",
       "      <td>1</td>\n",
       "      <td>2</td>\n",
       "      <td>8085989.5</td>\n",
       "    </tr>\n",
       "    <tr>\n",
       "      <th>2</th>\n",
       "      <td>55712</td>\n",
       "      <td>58</td>\n",
       "      <td>0</td>\n",
       "      <td>1</td>\n",
       "      <td>19</td>\n",
       "      <td>34457</td>\n",
       "      <td>6</td>\n",
       "      <td>8</td>\n",
       "      <td>2021</td>\n",
       "      <td>0</td>\n",
       "      <td>0</td>\n",
       "      <td>2937</td>\n",
       "      <td>8852</td>\n",
       "      <td>135</td>\n",
       "      <td>1</td>\n",
       "      <td>9</td>\n",
       "      <td>5574642.1</td>\n",
       "    </tr>\n",
       "    <tr>\n",
       "      <th>3</th>\n",
       "      <td>32316</td>\n",
       "      <td>47</td>\n",
       "      <td>0</td>\n",
       "      <td>0</td>\n",
       "      <td>6</td>\n",
       "      <td>27939</td>\n",
       "      <td>10</td>\n",
       "      <td>4</td>\n",
       "      <td>2012</td>\n",
       "      <td>0</td>\n",
       "      <td>1</td>\n",
       "      <td>659</td>\n",
       "      <td>7141</td>\n",
       "      <td>359</td>\n",
       "      <td>0</td>\n",
       "      <td>3</td>\n",
       "      <td>3232561.2</td>\n",
       "    </tr>\n",
       "    <tr>\n",
       "      <th>4</th>\n",
       "      <td>70429</td>\n",
       "      <td>19</td>\n",
       "      <td>1</td>\n",
       "      <td>1</td>\n",
       "      <td>90</td>\n",
       "      <td>38045</td>\n",
       "      <td>3</td>\n",
       "      <td>7</td>\n",
       "      <td>1990</td>\n",
       "      <td>1</td>\n",
       "      <td>0</td>\n",
       "      <td>8435</td>\n",
       "      <td>2429</td>\n",
       "      <td>292</td>\n",
       "      <td>1</td>\n",
       "      <td>4</td>\n",
       "      <td>7055052.0</td>\n",
       "    </tr>\n",
       "    <tr>\n",
       "      <th>...</th>\n",
       "      <td>...</td>\n",
       "      <td>...</td>\n",
       "      <td>...</td>\n",
       "      <td>...</td>\n",
       "      <td>...</td>\n",
       "      <td>...</td>\n",
       "      <td>...</td>\n",
       "      <td>...</td>\n",
       "      <td>...</td>\n",
       "      <td>...</td>\n",
       "      <td>...</td>\n",
       "      <td>...</td>\n",
       "      <td>...</td>\n",
       "      <td>...</td>\n",
       "      <td>...</td>\n",
       "      <td>...</td>\n",
       "      <td>...</td>\n",
       "    </tr>\n",
       "    <tr>\n",
       "      <th>9995</th>\n",
       "      <td>1726</td>\n",
       "      <td>89</td>\n",
       "      <td>0</td>\n",
       "      <td>1</td>\n",
       "      <td>5</td>\n",
       "      <td>73133</td>\n",
       "      <td>7</td>\n",
       "      <td>6</td>\n",
       "      <td>2009</td>\n",
       "      <td>0</td>\n",
       "      <td>1</td>\n",
       "      <td>9311</td>\n",
       "      <td>1698</td>\n",
       "      <td>218</td>\n",
       "      <td>0</td>\n",
       "      <td>4</td>\n",
       "      <td>176425.9</td>\n",
       "    </tr>\n",
       "    <tr>\n",
       "      <th>9996</th>\n",
       "      <td>44403</td>\n",
       "      <td>29</td>\n",
       "      <td>1</td>\n",
       "      <td>1</td>\n",
       "      <td>12</td>\n",
       "      <td>34606</td>\n",
       "      <td>9</td>\n",
       "      <td>4</td>\n",
       "      <td>1990</td>\n",
       "      <td>0</td>\n",
       "      <td>1</td>\n",
       "      <td>9061</td>\n",
       "      <td>1742</td>\n",
       "      <td>230</td>\n",
       "      <td>0</td>\n",
       "      <td>0</td>\n",
       "      <td>4448474.0</td>\n",
       "    </tr>\n",
       "    <tr>\n",
       "      <th>9997</th>\n",
       "      <td>83841</td>\n",
       "      <td>3</td>\n",
       "      <td>0</td>\n",
       "      <td>0</td>\n",
       "      <td>69</td>\n",
       "      <td>80933</td>\n",
       "      <td>10</td>\n",
       "      <td>10</td>\n",
       "      <td>2005</td>\n",
       "      <td>1</td>\n",
       "      <td>1</td>\n",
       "      <td>8304</td>\n",
       "      <td>7730</td>\n",
       "      <td>345</td>\n",
       "      <td>1</td>\n",
       "      <td>9</td>\n",
       "      <td>8390030.5</td>\n",
       "    </tr>\n",
       "    <tr>\n",
       "      <th>9998</th>\n",
       "      <td>59036</td>\n",
       "      <td>70</td>\n",
       "      <td>0</td>\n",
       "      <td>0</td>\n",
       "      <td>96</td>\n",
       "      <td>55856</td>\n",
       "      <td>1</td>\n",
       "      <td>3</td>\n",
       "      <td>2010</td>\n",
       "      <td>0</td>\n",
       "      <td>1</td>\n",
       "      <td>2590</td>\n",
       "      <td>6174</td>\n",
       "      <td>339</td>\n",
       "      <td>1</td>\n",
       "      <td>4</td>\n",
       "      <td>5905107.0</td>\n",
       "    </tr>\n",
       "    <tr>\n",
       "      <th>9999</th>\n",
       "      <td>1440</td>\n",
       "      <td>84</td>\n",
       "      <td>0</td>\n",
       "      <td>0</td>\n",
       "      <td>49</td>\n",
       "      <td>18412</td>\n",
       "      <td>6</td>\n",
       "      <td>10</td>\n",
       "      <td>1994</td>\n",
       "      <td>1</td>\n",
       "      <td>0</td>\n",
       "      <td>8485</td>\n",
       "      <td>2024</td>\n",
       "      <td>278</td>\n",
       "      <td>1</td>\n",
       "      <td>6</td>\n",
       "      <td>146708.4</td>\n",
       "    </tr>\n",
       "  </tbody>\n",
       "</table>\n",
       "<p>10000 rows × 17 columns</p>\n",
       "</div>"
      ],
      "text/plain": [
       "      squareMeters  numberOfRooms  hasYard  hasPool  floors  cityCode  \\\n",
       "0            75523              3        0        1      63      9373   \n",
       "1            80771             39        1        1      98     39381   \n",
       "2            55712             58        0        1      19     34457   \n",
       "3            32316             47        0        0       6     27939   \n",
       "4            70429             19        1        1      90     38045   \n",
       "...            ...            ...      ...      ...     ...       ...   \n",
       "9995          1726             89        0        1       5     73133   \n",
       "9996         44403             29        1        1      12     34606   \n",
       "9997         83841              3        0        0      69     80933   \n",
       "9998         59036             70        0        0      96     55856   \n",
       "9999          1440             84        0        0      49     18412   \n",
       "\n",
       "      cityPartRange  numPrevOwners  made  isNewBuilt  hasStormProtector  \\\n",
       "0                 3              8  2005           0                  1   \n",
       "1                 8              6  2015           1                  0   \n",
       "2                 6              8  2021           0                  0   \n",
       "3                10              4  2012           0                  1   \n",
       "4                 3              7  1990           1                  0   \n",
       "...             ...            ...   ...         ...                ...   \n",
       "9995              7              6  2009           0                  1   \n",
       "9996              9              4  1990           0                  1   \n",
       "9997             10             10  2005           1                  1   \n",
       "9998              1              3  2010           0                  1   \n",
       "9999              6             10  1994           1                  0   \n",
       "\n",
       "      basement  attic  garage  hasStorageRoom  hasGuestRoom      price  \n",
       "0         4313   9005     956               0             7  7559081.5  \n",
       "1         3653   2436     128               1             2  8085989.5  \n",
       "2         2937   8852     135               1             9  5574642.1  \n",
       "3          659   7141     359               0             3  3232561.2  \n",
       "4         8435   2429     292               1             4  7055052.0  \n",
       "...        ...    ...     ...             ...           ...        ...  \n",
       "9995      9311   1698     218               0             4   176425.9  \n",
       "9996      9061   1742     230               0             0  4448474.0  \n",
       "9997      8304   7730     345               1             9  8390030.5  \n",
       "9998      2590   6174     339               1             4  5905107.0  \n",
       "9999      8485   2024     278               1             6   146708.4  \n",
       "\n",
       "[10000 rows x 17 columns]"
      ]
     },
     "execution_count": 403,
     "metadata": {},
     "output_type": "execute_result"
    }
   ],
   "source": [
    "paris_housing = pd.read_csv('ParisHousing.csv')\n",
    "paris_housing"
   ]
  },
  {
   "cell_type": "code",
   "execution_count": null,
   "id": "fd71855e-e562-4508-8223-fca22c462981",
   "metadata": {},
   "outputs": [],
   "source": [
    "# sns.barplot(x=\"squareMeters\", y=\"price\", data=paris_housing)"
   ]
  },
  {
   "cell_type": "code",
   "execution_count": 407,
   "id": "87b8c22a-9025-4b86-a415-8f53e3cc5a55",
   "metadata": {},
   "outputs": [],
   "source": [
    "# SqNuOfRms = sns.barplot(x=\"price\", y=\"numberOfRooms\", data=paris_housing)"
   ]
  },
  {
   "cell_type": "code",
   "execution_count": 408,
   "id": "0809ccde-f763-477a-ab9c-ed6dbf7b2ba9",
   "metadata": {},
   "outputs": [],
   "source": [
    "# sns.set(rc = {'figure.figsize':(15,8)})\n",
    "# SqNuOfRms = sns.lineplot(x=\"price\", y=\"numberOfRooms\", data=paris_housing)"
   ]
  },
  {
   "cell_type": "code",
   "execution_count": null,
   "id": "1cd72e51-dc3e-4a16-8f04-395d6d53ea73",
   "metadata": {},
   "outputs": [],
   "source": []
  },
  {
   "cell_type": "code",
   "execution_count": 409,
   "id": "efa50eca-a9b9-4a2e-a863-15f4b7550385",
   "metadata": {},
   "outputs": [],
   "source": [
    "# sns.set(rc = {'figure.figsize':(15,8)})\n",
    "# SqNuOfRms = sns.barplot(x=\"squareMeters\", y=\"floors\", data=paris_housing)"
   ]
  },
  {
   "cell_type": "code",
   "execution_count": 410,
   "id": "62fb832b-3bc4-4bb9-91cb-04ebdc7699c3",
   "metadata": {},
   "outputs": [
    {
     "data": {
      "text/plain": [
       "(10000, 17)"
      ]
     },
     "execution_count": 410,
     "metadata": {},
     "output_type": "execute_result"
    }
   ],
   "source": [
    "paris_housing.shape"
   ]
  },
  {
   "cell_type": "code",
   "execution_count": 411,
   "id": "24b4e42f-8766-4130-9bdf-db61d47134d2",
   "metadata": {},
   "outputs": [
    {
     "data": {
      "text/plain": [
       "squareMeters         0\n",
       "numberOfRooms        0\n",
       "hasYard              0\n",
       "hasPool              0\n",
       "floors               0\n",
       "cityCode             0\n",
       "cityPartRange        0\n",
       "numPrevOwners        0\n",
       "made                 0\n",
       "isNewBuilt           0\n",
       "hasStormProtector    0\n",
       "basement             0\n",
       "attic                0\n",
       "garage               0\n",
       "hasStorageRoom       0\n",
       "hasGuestRoom         0\n",
       "price                0\n",
       "dtype: int64"
      ]
     },
     "execution_count": 411,
     "metadata": {},
     "output_type": "execute_result"
    }
   ],
   "source": [
    "paris_housing.isna().sum()"
   ]
  },
  {
   "cell_type": "code",
   "execution_count": 412,
   "id": "b3631459-848d-496c-95d2-60798e760127",
   "metadata": {},
   "outputs": [
    {
     "name": "stdout",
     "output_type": "stream",
     "text": [
      "<class 'pandas.core.frame.DataFrame'>\n",
      "RangeIndex: 10000 entries, 0 to 9999\n",
      "Data columns (total 17 columns):\n",
      " #   Column             Non-Null Count  Dtype  \n",
      "---  ------             --------------  -----  \n",
      " 0   squareMeters       10000 non-null  int64  \n",
      " 1   numberOfRooms      10000 non-null  int64  \n",
      " 2   hasYard            10000 non-null  int64  \n",
      " 3   hasPool            10000 non-null  int64  \n",
      " 4   floors             10000 non-null  int64  \n",
      " 5   cityCode           10000 non-null  int64  \n",
      " 6   cityPartRange      10000 non-null  int64  \n",
      " 7   numPrevOwners      10000 non-null  int64  \n",
      " 8   made               10000 non-null  int64  \n",
      " 9   isNewBuilt         10000 non-null  int64  \n",
      " 10  hasStormProtector  10000 non-null  int64  \n",
      " 11  basement           10000 non-null  int64  \n",
      " 12  attic              10000 non-null  int64  \n",
      " 13  garage             10000 non-null  int64  \n",
      " 14  hasStorageRoom     10000 non-null  int64  \n",
      " 15  hasGuestRoom       10000 non-null  int64  \n",
      " 16  price              10000 non-null  float64\n",
      "dtypes: float64(1), int64(16)\n",
      "memory usage: 1.3 MB\n"
     ]
    }
   ],
   "source": [
    "paris_housing.info()"
   ]
  },
  {
   "cell_type": "code",
   "execution_count": 413,
   "id": "9585613f-502c-47df-82da-516e26509689",
   "metadata": {},
   "outputs": [
    {
     "data": {
      "text/html": [
       "<div>\n",
       "<style scoped>\n",
       "    .dataframe tbody tr th:only-of-type {\n",
       "        vertical-align: middle;\n",
       "    }\n",
       "\n",
       "    .dataframe tbody tr th {\n",
       "        vertical-align: top;\n",
       "    }\n",
       "\n",
       "    .dataframe thead th {\n",
       "        text-align: right;\n",
       "    }\n",
       "</style>\n",
       "<table border=\"1\" class=\"dataframe\">\n",
       "  <thead>\n",
       "    <tr style=\"text-align: right;\">\n",
       "      <th></th>\n",
       "      <th>squareMeters</th>\n",
       "      <th>numberOfRooms</th>\n",
       "      <th>hasYard</th>\n",
       "      <th>hasPool</th>\n",
       "      <th>floors</th>\n",
       "      <th>cityCode</th>\n",
       "      <th>cityPartRange</th>\n",
       "      <th>numPrevOwners</th>\n",
       "      <th>made</th>\n",
       "      <th>isNewBuilt</th>\n",
       "      <th>hasStormProtector</th>\n",
       "      <th>basement</th>\n",
       "      <th>attic</th>\n",
       "      <th>garage</th>\n",
       "      <th>hasStorageRoom</th>\n",
       "      <th>hasGuestRoom</th>\n",
       "      <th>price</th>\n",
       "    </tr>\n",
       "  </thead>\n",
       "  <tbody>\n",
       "    <tr>\n",
       "      <th>count</th>\n",
       "      <td>10000.00000</td>\n",
       "      <td>10000.000000</td>\n",
       "      <td>10000.000000</td>\n",
       "      <td>10000.000000</td>\n",
       "      <td>10000.000000</td>\n",
       "      <td>10000.000000</td>\n",
       "      <td>10000.000000</td>\n",
       "      <td>10000.000000</td>\n",
       "      <td>10000.00000</td>\n",
       "      <td>10000.000000</td>\n",
       "      <td>10000.000000</td>\n",
       "      <td>10000.000000</td>\n",
       "      <td>10000.00000</td>\n",
       "      <td>10000.00000</td>\n",
       "      <td>10000.000000</td>\n",
       "      <td>10000.00000</td>\n",
       "      <td>1.000000e+04</td>\n",
       "    </tr>\n",
       "    <tr>\n",
       "      <th>mean</th>\n",
       "      <td>49870.13120</td>\n",
       "      <td>50.358400</td>\n",
       "      <td>0.508700</td>\n",
       "      <td>0.496800</td>\n",
       "      <td>50.276300</td>\n",
       "      <td>50225.486100</td>\n",
       "      <td>5.510100</td>\n",
       "      <td>5.521700</td>\n",
       "      <td>2005.48850</td>\n",
       "      <td>0.499100</td>\n",
       "      <td>0.499900</td>\n",
       "      <td>5033.103900</td>\n",
       "      <td>5028.01060</td>\n",
       "      <td>553.12120</td>\n",
       "      <td>0.503000</td>\n",
       "      <td>4.99460</td>\n",
       "      <td>4.993448e+06</td>\n",
       "    </tr>\n",
       "    <tr>\n",
       "      <th>std</th>\n",
       "      <td>28774.37535</td>\n",
       "      <td>28.816696</td>\n",
       "      <td>0.499949</td>\n",
       "      <td>0.500015</td>\n",
       "      <td>28.889171</td>\n",
       "      <td>29006.675799</td>\n",
       "      <td>2.872024</td>\n",
       "      <td>2.856667</td>\n",
       "      <td>9.30809</td>\n",
       "      <td>0.500024</td>\n",
       "      <td>0.500025</td>\n",
       "      <td>2876.729545</td>\n",
       "      <td>2894.33221</td>\n",
       "      <td>262.05017</td>\n",
       "      <td>0.500016</td>\n",
       "      <td>3.17641</td>\n",
       "      <td>2.877424e+06</td>\n",
       "    </tr>\n",
       "    <tr>\n",
       "      <th>min</th>\n",
       "      <td>89.00000</td>\n",
       "      <td>1.000000</td>\n",
       "      <td>0.000000</td>\n",
       "      <td>0.000000</td>\n",
       "      <td>1.000000</td>\n",
       "      <td>3.000000</td>\n",
       "      <td>1.000000</td>\n",
       "      <td>1.000000</td>\n",
       "      <td>1990.00000</td>\n",
       "      <td>0.000000</td>\n",
       "      <td>0.000000</td>\n",
       "      <td>0.000000</td>\n",
       "      <td>1.00000</td>\n",
       "      <td>100.00000</td>\n",
       "      <td>0.000000</td>\n",
       "      <td>0.00000</td>\n",
       "      <td>1.031350e+04</td>\n",
       "    </tr>\n",
       "    <tr>\n",
       "      <th>25%</th>\n",
       "      <td>25098.50000</td>\n",
       "      <td>25.000000</td>\n",
       "      <td>0.000000</td>\n",
       "      <td>0.000000</td>\n",
       "      <td>25.000000</td>\n",
       "      <td>24693.750000</td>\n",
       "      <td>3.000000</td>\n",
       "      <td>3.000000</td>\n",
       "      <td>1997.00000</td>\n",
       "      <td>0.000000</td>\n",
       "      <td>0.000000</td>\n",
       "      <td>2559.750000</td>\n",
       "      <td>2512.00000</td>\n",
       "      <td>327.75000</td>\n",
       "      <td>0.000000</td>\n",
       "      <td>2.00000</td>\n",
       "      <td>2.516402e+06</td>\n",
       "    </tr>\n",
       "    <tr>\n",
       "      <th>50%</th>\n",
       "      <td>50105.50000</td>\n",
       "      <td>50.000000</td>\n",
       "      <td>1.000000</td>\n",
       "      <td>0.000000</td>\n",
       "      <td>50.000000</td>\n",
       "      <td>50693.000000</td>\n",
       "      <td>5.000000</td>\n",
       "      <td>5.000000</td>\n",
       "      <td>2005.50000</td>\n",
       "      <td>0.000000</td>\n",
       "      <td>0.000000</td>\n",
       "      <td>5092.500000</td>\n",
       "      <td>5045.00000</td>\n",
       "      <td>554.00000</td>\n",
       "      <td>1.000000</td>\n",
       "      <td>5.00000</td>\n",
       "      <td>5.016180e+06</td>\n",
       "    </tr>\n",
       "    <tr>\n",
       "      <th>75%</th>\n",
       "      <td>74609.75000</td>\n",
       "      <td>75.000000</td>\n",
       "      <td>1.000000</td>\n",
       "      <td>1.000000</td>\n",
       "      <td>76.000000</td>\n",
       "      <td>75683.250000</td>\n",
       "      <td>8.000000</td>\n",
       "      <td>8.000000</td>\n",
       "      <td>2014.00000</td>\n",
       "      <td>1.000000</td>\n",
       "      <td>1.000000</td>\n",
       "      <td>7511.250000</td>\n",
       "      <td>7540.50000</td>\n",
       "      <td>777.25000</td>\n",
       "      <td>1.000000</td>\n",
       "      <td>8.00000</td>\n",
       "      <td>7.469092e+06</td>\n",
       "    </tr>\n",
       "    <tr>\n",
       "      <th>max</th>\n",
       "      <td>99999.00000</td>\n",
       "      <td>100.000000</td>\n",
       "      <td>1.000000</td>\n",
       "      <td>1.000000</td>\n",
       "      <td>100.000000</td>\n",
       "      <td>99953.000000</td>\n",
       "      <td>10.000000</td>\n",
       "      <td>10.000000</td>\n",
       "      <td>2021.00000</td>\n",
       "      <td>1.000000</td>\n",
       "      <td>1.000000</td>\n",
       "      <td>10000.000000</td>\n",
       "      <td>10000.00000</td>\n",
       "      <td>1000.00000</td>\n",
       "      <td>1.000000</td>\n",
       "      <td>10.00000</td>\n",
       "      <td>1.000677e+07</td>\n",
       "    </tr>\n",
       "  </tbody>\n",
       "</table>\n",
       "</div>"
      ],
      "text/plain": [
       "       squareMeters  numberOfRooms       hasYard       hasPool        floors  \\\n",
       "count   10000.00000   10000.000000  10000.000000  10000.000000  10000.000000   \n",
       "mean    49870.13120      50.358400      0.508700      0.496800     50.276300   \n",
       "std     28774.37535      28.816696      0.499949      0.500015     28.889171   \n",
       "min        89.00000       1.000000      0.000000      0.000000      1.000000   \n",
       "25%     25098.50000      25.000000      0.000000      0.000000     25.000000   \n",
       "50%     50105.50000      50.000000      1.000000      0.000000     50.000000   \n",
       "75%     74609.75000      75.000000      1.000000      1.000000     76.000000   \n",
       "max     99999.00000     100.000000      1.000000      1.000000    100.000000   \n",
       "\n",
       "           cityCode  cityPartRange  numPrevOwners         made    isNewBuilt  \\\n",
       "count  10000.000000   10000.000000   10000.000000  10000.00000  10000.000000   \n",
       "mean   50225.486100       5.510100       5.521700   2005.48850      0.499100   \n",
       "std    29006.675799       2.872024       2.856667      9.30809      0.500024   \n",
       "min        3.000000       1.000000       1.000000   1990.00000      0.000000   \n",
       "25%    24693.750000       3.000000       3.000000   1997.00000      0.000000   \n",
       "50%    50693.000000       5.000000       5.000000   2005.50000      0.000000   \n",
       "75%    75683.250000       8.000000       8.000000   2014.00000      1.000000   \n",
       "max    99953.000000      10.000000      10.000000   2021.00000      1.000000   \n",
       "\n",
       "       hasStormProtector      basement        attic       garage  \\\n",
       "count       10000.000000  10000.000000  10000.00000  10000.00000   \n",
       "mean            0.499900   5033.103900   5028.01060    553.12120   \n",
       "std             0.500025   2876.729545   2894.33221    262.05017   \n",
       "min             0.000000      0.000000      1.00000    100.00000   \n",
       "25%             0.000000   2559.750000   2512.00000    327.75000   \n",
       "50%             0.000000   5092.500000   5045.00000    554.00000   \n",
       "75%             1.000000   7511.250000   7540.50000    777.25000   \n",
       "max             1.000000  10000.000000  10000.00000   1000.00000   \n",
       "\n",
       "       hasStorageRoom  hasGuestRoom         price  \n",
       "count    10000.000000   10000.00000  1.000000e+04  \n",
       "mean         0.503000       4.99460  4.993448e+06  \n",
       "std          0.500016       3.17641  2.877424e+06  \n",
       "min          0.000000       0.00000  1.031350e+04  \n",
       "25%          0.000000       2.00000  2.516402e+06  \n",
       "50%          1.000000       5.00000  5.016180e+06  \n",
       "75%          1.000000       8.00000  7.469092e+06  \n",
       "max          1.000000      10.00000  1.000677e+07  "
      ]
     },
     "execution_count": 413,
     "metadata": {},
     "output_type": "execute_result"
    }
   ],
   "source": [
    "paris_housing.describe()"
   ]
  },
  {
   "cell_type": "code",
   "execution_count": 415,
   "id": "8a865567-b545-4f02-92f0-af65e00dec27",
   "metadata": {},
   "outputs": [
    {
     "data": {
      "text/plain": [
       "<AxesSubplot:>"
      ]
     },
     "execution_count": 415,
     "metadata": {},
     "output_type": "execute_result"
    },
    {
     "data": {
      "image/png": "[encoded data removed]",
      "text/plain": [
       "<Figure size 864x504 with 1 Axes>"
      ]
     },
     "metadata": {},
     "output_type": "display_data"
    }
   ],
   "source": [
    "plt.figure(figsize = (12, 7))\n",
    "paris_housing.boxplot()"
   ]
  },
  {
   "cell_type": "code",
   "execution_count": 416,
   "id": "22a7f9ef-d700-4883-98a3-3193be663198",
   "metadata": {},
   "outputs": [
    {
     "data": {
      "text/plain": [
       "<AxesSubplot:>"
      ]
     },
     "execution_count": 416,
     "metadata": {},
     "output_type": "execute_result"
    },
    {
     "data": {
      "image/png": "[encoded data removed]",
      "text/plain": [
       "<Figure size 1080x720 with 2 Axes>"
      ]
     },
     "metadata": {},
     "output_type": "display_data"
    }
   ],
   "source": [
    "plt.figure(figsize=(15,10))\n",
    "sns.heatmap(paris_housing.corr(), annot = True)"
   ]
  },
  {
   "cell_type": "code",
   "execution_count": 417,
   "id": "00caf757-8901-4b0d-882c-0761fc347649",
   "metadata": {},
   "outputs": [
    {
     "data": {
      "text/plain": [
       "<AxesSubplot:>"
      ]
     },
     "execution_count": 417,
     "metadata": {},
     "output_type": "execute_result"
    },
    {
     "data": {
      "image/png": "[encoded data removed]",
      "text/plain": [
       "<Figure size 576x396 with 1 Axes>"
      ]
     },
     "metadata": {},
     "output_type": "display_data"
    }
   ],
   "source": [
    "paris_housing.boxplot(['hasGuestRoom'])"
   ]
  },
  {
   "cell_type": "code",
   "execution_count": 418,
   "id": "13f85eeb-eac8-4c04-9a77-ad651cc2fba4",
   "metadata": {},
   "outputs": [],
   "source": [
    "y = paris_housing['price']\n",
    "x = paris_housing.drop(columns=['price', 'cityCode', 'cityPartRange', 'numPrevOwners', 'made', 'isNewBuilt', 'hasStormProtector', 'basement', 'attic', 'garage', 'hasStorageRoom', 'hasGuestRoom'], axis=1)"
   ]
  },
  {
   "cell_type": "code",
   "execution_count": 363,
   "id": "5358a0ec-bebd-4705-ab9f-fc766e7b3b0d",
   "metadata": {},
   "outputs": [
    {
     "data": {
      "text/html": [
       "<div>\n",
       "<style scoped>\n",
       "    .dataframe tbody tr th:only-of-type {\n",
       "        vertical-align: middle;\n",
       "    }\n",
       "\n",
       "    .dataframe tbody tr th {\n",
       "        vertical-align: top;\n",
       "    }\n",
       "\n",
       "    .dataframe thead th {\n",
       "        text-align: right;\n",
       "    }\n",
       "</style>\n",
       "<table border=\"1\" class=\"dataframe\">\n",
       "  <thead>\n",
       "    <tr style=\"text-align: right;\">\n",
       "      <th></th>\n",
       "      <th>squareMeters</th>\n",
       "      <th>numberOfRooms</th>\n",
       "      <th>hasYard</th>\n",
       "      <th>hasPool</th>\n",
       "      <th>floors</th>\n",
       "    </tr>\n",
       "  </thead>\n",
       "  <tbody>\n",
       "    <tr>\n",
       "      <th>0</th>\n",
       "      <td>75523</td>\n",
       "      <td>3</td>\n",
       "      <td>0</td>\n",
       "      <td>1</td>\n",
       "      <td>63</td>\n",
       "    </tr>\n",
       "    <tr>\n",
       "      <th>1</th>\n",
       "      <td>80771</td>\n",
       "      <td>39</td>\n",
       "      <td>1</td>\n",
       "      <td>1</td>\n",
       "      <td>98</td>\n",
       "    </tr>\n",
       "    <tr>\n",
       "      <th>2</th>\n",
       "      <td>55712</td>\n",
       "      <td>58</td>\n",
       "      <td>0</td>\n",
       "      <td>1</td>\n",
       "      <td>19</td>\n",
       "    </tr>\n",
       "    <tr>\n",
       "      <th>3</th>\n",
       "      <td>32316</td>\n",
       "      <td>47</td>\n",
       "      <td>0</td>\n",
       "      <td>0</td>\n",
       "      <td>6</td>\n",
       "    </tr>\n",
       "    <tr>\n",
       "      <th>4</th>\n",
       "      <td>70429</td>\n",
       "      <td>19</td>\n",
       "      <td>1</td>\n",
       "      <td>1</td>\n",
       "      <td>90</td>\n",
       "    </tr>\n",
       "    <tr>\n",
       "      <th>...</th>\n",
       "      <td>...</td>\n",
       "      <td>...</td>\n",
       "      <td>...</td>\n",
       "      <td>...</td>\n",
       "      <td>...</td>\n",
       "    </tr>\n",
       "    <tr>\n",
       "      <th>9995</th>\n",
       "      <td>1726</td>\n",
       "      <td>89</td>\n",
       "      <td>0</td>\n",
       "      <td>1</td>\n",
       "      <td>5</td>\n",
       "    </tr>\n",
       "    <tr>\n",
       "      <th>9996</th>\n",
       "      <td>44403</td>\n",
       "      <td>29</td>\n",
       "      <td>1</td>\n",
       "      <td>1</td>\n",
       "      <td>12</td>\n",
       "    </tr>\n",
       "    <tr>\n",
       "      <th>9997</th>\n",
       "      <td>83841</td>\n",
       "      <td>3</td>\n",
       "      <td>0</td>\n",
       "      <td>0</td>\n",
       "      <td>69</td>\n",
       "    </tr>\n",
       "    <tr>\n",
       "      <th>9998</th>\n",
       "      <td>59036</td>\n",
       "      <td>70</td>\n",
       "      <td>0</td>\n",
       "      <td>0</td>\n",
       "      <td>96</td>\n",
       "    </tr>\n",
       "    <tr>\n",
       "      <th>9999</th>\n",
       "      <td>1440</td>\n",
       "      <td>84</td>\n",
       "      <td>0</td>\n",
       "      <td>0</td>\n",
       "      <td>49</td>\n",
       "    </tr>\n",
       "  </tbody>\n",
       "</table>\n",
       "<p>10000 rows × 5 columns</p>\n",
       "</div>"
      ],
      "text/plain": [
       "      squareMeters  numberOfRooms  hasYard  hasPool  floors\n",
       "0            75523              3        0        1      63\n",
       "1            80771             39        1        1      98\n",
       "2            55712             58        0        1      19\n",
       "3            32316             47        0        0       6\n",
       "4            70429             19        1        1      90\n",
       "...            ...            ...      ...      ...     ...\n",
       "9995          1726             89        0        1       5\n",
       "9996         44403             29        1        1      12\n",
       "9997         83841              3        0        0      69\n",
       "9998         59036             70        0        0      96\n",
       "9999          1440             84        0        0      49\n",
       "\n",
       "[10000 rows x 5 columns]"
      ]
     },
     "execution_count": 363,
     "metadata": {},
     "output_type": "execute_result"
    }
   ],
   "source": [
    "x"
   ]
  },
  {
   "cell_type": "code",
   "execution_count": 364,
   "id": "144568ff-ffe6-4aac-beb3-d4afc93688fc",
   "metadata": {},
   "outputs": [],
   "source": [
    "X_train, X_test, y_train, y_test = train_test_split(x, y, test_size=.20, random_state=45)"
   ]
  },
  {
   "cell_type": "code",
   "execution_count": 419,
   "id": "1959c808-d4ae-489e-bc8c-f5a61c269f1f",
   "metadata": {},
   "outputs": [],
   "source": [
    "Scaler = MinMaxScaler()\n",
    "Normal = Scaler.fit_transform(X_train)\n",
    "X_train_scale, X_test_scale, y_train_scale, y_test_scale = train_test_split(Normal, y_train, test_size=.20, random_state=45)"
   ]
  },
  {
   "cell_type": "code",
   "execution_count": 420,
   "id": "f415941c-5ffa-4e8a-9af9-9fff4efb9a82",
   "metadata": {},
   "outputs": [],
   "source": [
    "from sklearn.decomposition import PCA"
   ]
  },
  {
   "cell_type": "code",
   "execution_count": 421,
   "id": "f1677e33-1d67-410b-90f9-85e9d49bf6c3",
   "metadata": {},
   "outputs": [],
   "source": [
    "model = PCA(n_components = 5)\n",
    "model_ = model.fit(X_train_scale, y_train_scale)"
   ]
  },
  {
   "cell_type": "code",
   "execution_count": 422,
   "id": "98a94b94-38a6-4a5c-b0ca-9c8fef1cded0",
   "metadata": {},
   "outputs": [
    {
     "data": {
      "image/png": "[encoded data removed]",
      "text/plain": [
       "<Figure size 576x396 with 1 Axes>"
      ]
     },
     "metadata": {},
     "output_type": "display_data"
    }
   ],
   "source": [
    "features = paris_housing.columns\n",
    "importances = model_.explained_variance_\n",
    "indices = np.argsort(importances)[-10:]\n",
    "plt.title('Feature Importances')\n",
    "plt.barh(range(len(indices)), importances[indices], color='b', align='center')\n",
    "plt.yticks(range(len(indices)), [features[i] for i in indices])\n",
    "plt.xlabel('Relatives importance')\n",
    "plt.show()"
   ]
  },
  {
   "cell_type": "code",
   "execution_count": 423,
   "id": "5232421c-76d8-450e-a7e0-6f847269a45b",
   "metadata": {},
   "outputs": [],
   "source": [
    "model = LinearRegression()\n",
    "model = model.fit(X_train_scale, y_train_scale)"
   ]
  },
  {
   "cell_type": "code",
   "execution_count": 424,
   "id": "f84ea598-09f1-4744-a1ae-6c96c08b5153",
   "metadata": {},
   "outputs": [
    {
     "data": {
      "text/plain": [
       "0.9999995622840707"
      ]
     },
     "execution_count": 424,
     "metadata": {},
     "output_type": "execute_result"
    }
   ],
   "source": [
    "coef_deter = model.score(X_train_scale, y_train_scale)\n",
    "coef_deter"
   ]
  },
  {
   "cell_type": "code",
   "execution_count": 425,
   "id": "a67fbc28-34fb-4d8e-8afa-310852c2c0f0",
   "metadata": {},
   "outputs": [
    {
     "data": {
      "text/plain": [
       "array([ 9.99098675e+06, -3.63870334e+01,  3.02333711e+03,  2.97016494e+03,\n",
       "        5.47011436e+03])"
      ]
     },
     "execution_count": 425,
     "metadata": {},
     "output_type": "execute_result"
    }
   ],
   "source": [
    "intercept = model.coef_\n",
    "intercept"
   ]
  },
  {
   "cell_type": "code",
   "execution_count": 426,
   "id": "d63c9377-b1eb-4f90-ba08-2e70d1db4481",
   "metadata": {},
   "outputs": [],
   "source": [
    "y_predict = model.predict(X_test_scale)"
   ]
  },
  {
   "cell_type": "code",
   "execution_count": 427,
   "id": "903c5d9c-9ed2-4fc4-853c-bf2e2ee0d8d9",
   "metadata": {},
   "outputs": [
    {
     "name": "stdout",
     "output_type": "stream",
     "text": [
      "MAE :  1489.9401153209817\n",
      "MSE :  3675803.6212656163\n",
      "R2 score :  0.9999995649466572\n"
     ]
    }
   ],
   "source": [
    "from sklearn.metrics import mean_absolute_error, mean_squared_error, r2_score\n",
    "print(\"MAE : \", mean_absolute_error(y_test_scale, y_predict))\n",
    "print(\"MSE : \", mean_squared_error(y_test_scale, y_predict))\n",
    "print(\"R2 score : \", r2_score(y_test_scale, y_predict))"
   ]
  },
  {
   "cell_type": "code",
   "execution_count": 428,
   "id": "4befea01-530e-42fa-949d-e3ee14f2f3ae",
   "metadata": {},
   "outputs": [],
   "source": [
    "model = Ridge()\n",
    "model = model.fit(X_train_scale, y_train_scale)"
   ]
  },
  {
   "cell_type": "code",
   "execution_count": 429,
   "id": "6cb3323b-702a-4f7e-927c-15458334e53e",
   "metadata": {},
   "outputs": [
    {
     "data": {
      "text/plain": [
       "0.9999960481847447"
      ]
     },
     "execution_count": 429,
     "metadata": {},
     "output_type": "execute_result"
    }
   ],
   "source": [
    "coef_deter = model.score(X_train_scale, y_train_scale)\n",
    "coef_deter"
   ]
  },
  {
   "cell_type": "code",
   "execution_count": 430,
   "id": "a615002e-7261-459a-97b5-00ed66cbe736",
   "metadata": {},
   "outputs": [
    {
     "data": {
      "text/plain": [
       "array([9.97225261e+06, 3.63466275e+02, 2.94262930e+03, 2.90352691e+03,\n",
       "       5.42469802e+03])"
      ]
     },
     "execution_count": 430,
     "metadata": {},
     "output_type": "execute_result"
    }
   ],
   "source": [
    "intercept = model.coef_\n",
    "intercept"
   ]
  },
  {
   "cell_type": "code",
   "execution_count": 431,
   "id": "fea86c63-041a-4919-97be-d2636c3bc2de",
   "metadata": {},
   "outputs": [],
   "source": [
    "y_predict = model.predict(X_test_scale)"
   ]
  },
  {
   "cell_type": "code",
   "execution_count": 432,
   "id": "32db2bc8-ca60-431e-8286-0a4ca1697629",
   "metadata": {},
   "outputs": [
    {
     "name": "stdout",
     "output_type": "stream",
     "text": [
      "MAE :  5003.8869579251095\n",
      "MSE :  34073381.20492225\n",
      "R2 score :  0.9999959672115484\n"
     ]
    }
   ],
   "source": [
    "from sklearn.metrics import mean_absolute_error, mean_squared_error, r2_score\n",
    "print(\"MAE : \", mean_absolute_error(y_test_scale, y_predict))\n",
    "print(\"MSE : \", mean_squared_error(y_test_scale, y_predict))\n",
    "print(\"R2 score : \", r2_score(y_test_scale, y_predict))"
   ]
  },
  {
   "cell_type": "code",
   "execution_count": 438,
   "id": "e0a55def-9ae0-4f63-9834-27cbbc79b30c",
   "metadata": {},
   "outputs": [],
   "source": [
    "from yellowbrick.regressor import ResidualPlot\n",
    "model = LinearRegression()\n",
    "visualizer = ResidualPlot(model, hist=True, qqplot=False)\n",
    "\n",
    "visualizer.fit(X_train, y_train)\n",
    "visualizer.score(X_test, y_test)\n",
    "visualizer.show()"
   ]
  }
 ],
 "metadata": {
  "kernelspec": {
   "display_name": "Python 3 (ipykernel)",
   "language": "python",
   "name": "python3"
  },
  "language_info": {
   "codemirror_mode": {
    "name": "ipython",
    "version": 3
   },
   "file_extension": ".py",
   "mimetype": "text/x-python",
   "name": "python",
   "nbconvert_exporter": "python",
   "pygments_lexer": "ipython3",
   "version": "3.9.6"
  }
 },
 "nbformat": 4,
 "nbformat_minor": 5
}
